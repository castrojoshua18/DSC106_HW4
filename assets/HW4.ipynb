{
 "cells": [
  {
   "cell_type": "markdown",
   "metadata": {},
   "source": [
    "# HW4 : A visit to the movie zoo!\n",
    "\n",
    "![](https://vignette.wikia.nocookie.net/bojackhorseman/images/f/f2/HSACWDTK%3FDTKT%3FLFO%21%21.png/revision/latest?cb=20150720050503)"
   ]
  },
  {
   "cell_type": "markdown",
   "metadata": {},
   "source": [
    "## Task\n",
    "In this homework, your task is to visualize THREE non-typical charts on anything related to your favorite **movie star!**\n",
    "This means you CANNOT use the Big 4 chart types or their close variants (i.e. Pie, Bar, Line and Scatter, Area, etc.)\n",
    "\n",
    "You are free to use any other chart type whether or not they were covered in class!\n",
    "The lecture on Visit To The Zoo is a good place to start to get ideas on what kinds of charts exist.\n",
    "\n",
    "For the data, you are free to use any data source you deem fit.\n",
    "For charting, we will NOT be constraining the technology you use. \n",
    "You are free to produce the charts in any way you would like.\n",
    "\n",
    "You will be judged on\n",
    "* Creativity\n",
    "* Presentation Quality\n",
    "* Data Quality (Did your visualization reveal something interesting?)\n",
    "\n",
    "For extra credit, you can make a fully interactive visualization."
   ]
  },
  {
   "cell_type": "markdown",
   "metadata": {},
   "source": [
    "## Ideas for Data Collection\n",
    "\n",
    "Here, we show an example of how to collect data about Arnold Schwarzenegger!\n",
    "Do note that this is just an example of the kind of data you can collect.\n",
    "You are **NOT** constrained\n",
    "* To the same movie star (you can pick your own!)\n",
    "* To the same *kind* of data\n",
    "* To the same data sources\n",
    "* or to anything else!\n",
    "\n",
    "This assignment gives you the power to do what you like!"
   ]
  },
  {
   "cell_type": "code",
   "execution_count": 1,
   "metadata": {},
   "outputs": [],
   "source": [
    "from imdbpie import ImdbFacade\n",
    "from IPython.core.display import display, HTML\n",
    "from bs4 import BeautifulSoup\n",
    "import urllib.request\n",
    "import re"
   ]
  },
  {
   "cell_type": "markdown",
   "metadata": {},
   "source": [
    "#### Get data for Arnold Schwarzenegger"
   ]
  },
  {
   "cell_type": "code",
   "execution_count": 2,
   "metadata": {},
   "outputs": [
    {
     "name": "stdout",
     "output_type": "stream",
     "text": [
      "(NameSearchResult(imdb_id='nm1569276', name='Chadwick Boseman'),)\n"
     ]
    }
   ],
   "source": [
    "# Get an instance of IMDb class\n",
    "imdb = ImdbFacade()\n",
    "\n",
    "# Search for Arnold Schwarzenegger\n",
    "people = imdb.search_for_name('Chadwick Boseman')\n",
    "print(people)"
   ]
  },
  {
   "cell_type": "code",
   "execution_count": 3,
   "metadata": {},
   "outputs": [
    {
     "name": "stdout",
     "output_type": "stream",
     "text": [
      "bios\n",
      "birth_place\n",
      "date_of_birth\n",
      "filmography\n",
      "gender\n",
      "image\n",
      "imdb_id\n",
      "name\n"
     ]
    }
   ],
   "source": [
    "# Fetch information about him\n",
    "star = imdb.get_name(people[0].imdb_id)\n",
    "\n",
    "# What information do I have about him?\n",
    "print('\\n'.join([x for x in dir(star) if not x.startswith('__')]))"
   ]
  },
  {
   "cell_type": "code",
   "execution_count": 4,
   "metadata": {},
   "outputs": [
    {
     "name": "stdout",
     "output_type": "stream",
     "text": [
      "131\n"
     ]
    }
   ],
   "source": [
    "# How many movies does he have?\n",
    "print(len(star.filmography))"
   ]
  },
  {
   "cell_type": "code",
   "execution_count": 5,
   "metadata": {},
   "outputs": [
    {
     "name": "stdout",
     "output_type": "stream",
     "text": [
      "Yasuke\n",
      "nope\n",
      "Forgiveness\n",
      "nope\n",
      "Da 5 Bloods\n",
      "nope\n",
      "Black Panther II\n",
      "nope\n",
      "Father's Day Special\n",
      "nope\n",
      "Jerk!\n",
      "nope\n",
      "21 Bridges\n",
      "nope\n",
      "Avengers: Endgame\n",
      "nope\n",
      "Avengers: Infinity War\n",
      "nope\n",
      "Black Panther\n"
     ]
    },
    {
     "data": {
      "text/plain": [
       "'Black Panther'"
      ]
     },
     "execution_count": 5,
     "metadata": {},
     "output_type": "execute_result"
    }
   ],
   "source": [
    "# Let's fetch some more information about a movie\n",
    "for elt in star.filmography:\n",
    "    out = imdb.get_title(elt)\n",
    "    print(out.title)\n",
    "    if out.title == 'Black Panther':\n",
    "        movie = out\n",
    "        break\n",
    "    else:\n",
    "        print('nope')\n",
    "movie.title"
   ]
  },
  {
   "cell_type": "code",
   "execution_count": 6,
   "metadata": {},
   "outputs": [
    {
     "name": "stdout",
     "output_type": "stream",
     "text": [
      "certification\n",
      "creators\n",
      "credits\n",
      "directors\n",
      "episode\n",
      "episodes\n",
      "genres\n",
      "image\n",
      "imdb_id\n",
      "plot_outline\n",
      "rating\n",
      "rating_count\n",
      "release_date\n",
      "releases\n",
      "runtime\n",
      "season\n",
      "stars\n",
      "title\n",
      "type\n",
      "writers\n",
      "year\n"
     ]
    }
   ],
   "source": [
    "# What information can I get about this movie?\n",
    "print('\\n'.join([x for x in dir(movie) if not x.startswith('__')]))"
   ]
  },
  {
   "cell_type": "code",
   "execution_count": 7,
   "metadata": {},
   "outputs": [
    {
     "name": "stdout",
     "output_type": "stream",
     "text": [
      "tt7084726\n"
     ]
    }
   ],
   "source": [
    "print(imdb.get_title(star.filmography[0]).imdb_id)\n",
    "#print(imdb.get_title(movie).imdb_id)"
   ]
  },
  {
   "cell_type": "code",
   "execution_count": 8,
   "metadata": {},
   "outputs": [
    {
     "data": {
      "text/html": [
       "\n",
       "    <div style=\"background-color:#FFDDDD\">\n",
       "    <h2> Warning! </h2>\n",
       "    <p> This code below is meant to be an example of what you can do. <br>\n",
       "        It is not guaranteed to work always, and will need to be tweaked!\n",
       "    </p>\n",
       "    </div>\n"
      ],
      "text/plain": [
       "<IPython.core.display.HTML object>"
      ]
     },
     "metadata": {},
     "output_type": "display_data"
    }
   ],
   "source": [
    "html = \"\"\"\n",
    "    <div style=\"background-color:#FFDDDD\">\n",
    "    <h2> Warning! </h2>\n",
    "    <p> This code below is meant to be an example of what you can do. <br>\n",
    "        It is not guaranteed to work always, and will need to be tweaked!\n",
    "    </p>\n",
    "    </div>\n",
    "\"\"\"\n",
    "display(HTML(html))"
   ]
  },
  {
   "cell_type": "markdown",
   "metadata": {},
   "source": [
    "#### Box office numbers"
   ]
  },
  {
   "cell_type": "code",
   "execution_count": 9,
   "metadata": {},
   "outputs": [],
   "source": [
    "# chadwick = {\n",
    "#     'movie': [], \n",
    "#     'gross domestic earnings': [], \n",
    "#     'weekly domestic earnings': [],\n",
    "# }\n",
    "# for movie in star.filmography:\n",
    "#     curr_movie = imdb.get_title(movie)\n",
    "#     curr_id = curr_movie.imdb_id\n",
    "# #     print('================ ' + curr_movie.title +' ================')\n",
    "# #     print(curr_id)\n",
    "#     try:\n",
    "#         # Fetch the box office numbers\n",
    "#         base = 'https://www.boxofficemojo.com'\n",
    "#         url = base + '/title/' + curr_id\n",
    "#         source = urllib.request.urlopen(url).read()\n",
    "#         soup = BeautifulSoup(source,'lxml')\n",
    "\n",
    "#         table = soup('th', text=re.compile(r'Release Group'))[0].parent.parent\n",
    "#         group = table.findAll('tr', recursive=False)[1].find('a').get('href')\n",
    "#         url = base + group\n",
    "#         # print('=1=')\n",
    "#         # display(url)\n",
    "\n",
    "#         # # Get total earnings domestic and international\n",
    "#         source = urllib.request.urlopen(url).read()\n",
    "#         soup = BeautifulSoup(source,'lxml')\n",
    "#         earnings = soup('h2', text=re.compile(r'Rollout'))[0].parent.parent.findAll('div')\n",
    "#         domestic = earnings[1].find('span', {'class': 'money'}).get_text()\n",
    "#         domestic_url = earnings[1].find('a').get('href')\n",
    "#         #international = earnings[2].find('span', {'class': 'money'}).get_text()\n",
    "\n",
    "#         # # Get weekly domestic earnings\n",
    "#         url = base + domestic_url\n",
    "# #         print('=2=')\n",
    "# #         display(url)\n",
    "#         url = url[:url.rfind('/')] + '/weekly/'\n",
    "#         source = urllib.request.urlopen(url).read()\n",
    "#         soup = BeautifulSoup(source,'lxml')\n",
    "#         table = soup.find('div', {'class':'a-section imdb-scroll-table-inner'}).findAll('tr')\n",
    "#         weekly = []\n",
    "#         for tr in table[1:]:\n",
    "#             date = tr.findAll('td')[0].get_text()\n",
    "#             earning = tr.findAll('td')[2].get_text()\n",
    "#             weekly.append((date, earning))\n",
    "\n",
    "#         # # Print the values we've just got!\n",
    "# #         print(\"Total Domestic Earnings: %s\" % domestic)\n",
    "# #         #print(\"Total International Earnings: %s\" % international)\n",
    "# #         print(\"Weekly Domestic Earnings:\")\n",
    "# #         for date, earning in weekly:\n",
    "# #             print(\"\\t%s \\t: %s\" % (date, earning))\n",
    "#         chadwick['movie'].append(curr_movie.title)\n",
    "#         chadwick['gross domestic earnings'].append(domestic)\n",
    "#         chadwick['weekly domestic earnings'].append(weekly)\n",
    "#     except:\n",
    "#         pass"
   ]
  },
  {
   "cell_type": "markdown",
   "metadata": {},
   "source": [
    "## Other resources!"
   ]
  },
  {
   "cell_type": "code",
   "execution_count": 10,
   "metadata": {},
   "outputs": [],
   "source": [
    "import pandas as pd"
   ]
  },
  {
   "cell_type": "code",
   "execution_count": 12,
   "metadata": {},
   "outputs": [],
   "source": [
    "# out = pd.DataFrame(chadwick)\n",
    "# out.to_csv('chadwick.csv')\n",
    "# out.to_json('chadwick.json')"
   ]
  },
  {
   "cell_type": "code",
   "execution_count": 14,
   "metadata": {},
   "outputs": [
    {
     "data": {
      "text/html": [
       "<div>\n",
       "<style scoped>\n",
       "    .dataframe tbody tr th:only-of-type {\n",
       "        vertical-align: middle;\n",
       "    }\n",
       "\n",
       "    .dataframe tbody tr th {\n",
       "        vertical-align: top;\n",
       "    }\n",
       "\n",
       "    .dataframe thead th {\n",
       "        text-align: right;\n",
       "    }\n",
       "</style>\n",
       "<table border=\"1\" class=\"dataframe\">\n",
       "  <thead>\n",
       "    <tr style=\"text-align: right;\">\n",
       "      <th></th>\n",
       "      <th>Unnamed: 0</th>\n",
       "      <th>movie</th>\n",
       "      <th>gross domestic earnings</th>\n",
       "      <th>weekly domestic earnings</th>\n",
       "    </tr>\n",
       "  </thead>\n",
       "  <tbody>\n",
       "    <tr>\n",
       "      <th>0</th>\n",
       "      <td>0</td>\n",
       "      <td>21 Bridges</td>\n",
       "      <td>$9,300,000</td>\n",
       "      <td>[('Nov 22-28', '$9,300,000')]</td>\n",
       "    </tr>\n",
       "    <tr>\n",
       "      <th>1</th>\n",
       "      <td>1</td>\n",
       "      <td>Avengers: Endgame</td>\n",
       "      <td>$858,373,000</td>\n",
       "      <td>[('Apr 26-May 2', '$473,894,638'), ('May 3-9',...</td>\n",
       "    </tr>\n",
       "    <tr>\n",
       "      <th>2</th>\n",
       "      <td>2</td>\n",
       "      <td>Avengers: Infinity War</td>\n",
       "      <td>$678,815,482</td>\n",
       "      <td>[('Apr 27-May 3', '$338,332,540'), ('May 4-10'...</td>\n",
       "    </tr>\n",
       "    <tr>\n",
       "      <th>3</th>\n",
       "      <td>3</td>\n",
       "      <td>Black Panther</td>\n",
       "      <td>$700,059,566</td>\n",
       "      <td>[('Feb 16-22', '$291,954,422'), ('Feb 23-Mar 1...</td>\n",
       "    </tr>\n",
       "    <tr>\n",
       "      <th>4</th>\n",
       "      <td>4</td>\n",
       "      <td>Marshall</td>\n",
       "      <td>$10,051,659</td>\n",
       "      <td>[('Oct 13-19', '$3,951,991'), ('Oct 20-26', '$...</td>\n",
       "    </tr>\n",
       "  </tbody>\n",
       "</table>\n",
       "</div>"
      ],
      "text/plain": [
       "   Unnamed: 0                   movie gross domestic earnings  \\\n",
       "0           0              21 Bridges              $9,300,000   \n",
       "1           1       Avengers: Endgame            $858,373,000   \n",
       "2           2  Avengers: Infinity War            $678,815,482   \n",
       "3           3           Black Panther            $700,059,566   \n",
       "4           4                Marshall             $10,051,659   \n",
       "\n",
       "                            weekly domestic earnings  \n",
       "0                      [('Nov 22-28', '$9,300,000')]  \n",
       "1  [('Apr 26-May 2', '$473,894,638'), ('May 3-9',...  \n",
       "2  [('Apr 27-May 3', '$338,332,540'), ('May 4-10'...  \n",
       "3  [('Feb 16-22', '$291,954,422'), ('Feb 23-Mar 1...  \n",
       "4  [('Oct 13-19', '$3,951,991'), ('Oct 20-26', '$...  "
      ]
     },
     "execution_count": 14,
     "metadata": {},
     "output_type": "execute_result"
    }
   ],
   "source": [
    "df = pd.read_csv('chadwick.csv')\n",
    "df.head()"
   ]
  },
  {
   "cell_type": "code",
   "execution_count": 19,
   "metadata": {},
   "outputs": [],
   "source": [
    "to_merge = df.iloc[range(12)]"
   ]
  },
  {
   "cell_type": "code",
   "execution_count": 20,
   "metadata": {},
   "outputs": [],
   "source": [
    "to_merge.to_csv('to_merge.csv')"
   ]
  },
  {
   "cell_type": "markdown",
   "metadata": {},
   "source": [
    "This assignment doesn't have a restriction on where you can look for data.\n",
    "Further, we don't mind how you collect the data, or what data you collect.\n",
    "\n",
    "Here are some additional resources for this example, and you can customize it for your own!\n",
    "* Arnold Schwarzenegger Kill Count: https://www.youtube.com/watch?v=OE6jpTaOYMU\n",
    "* Arnold Schwarzenegger Top Quotes: https://www.youtube.com/watch?v=pDxn0Xfqkgw\n",
    "\n",
    "You could think about the IMDB network as a graph, with different actors connected through movies.\n",
    "\n",
    "Some other useful libraries/ databases:\n",
    "* IMDBPy\n",
    "* http://www.omdbapi.com/"
   ]
  }
 ],
 "metadata": {
  "kernelspec": {
   "display_name": "Python 3",
   "language": "python",
   "name": "python3"
  },
  "language_info": {
   "codemirror_mode": {
    "name": "ipython",
    "version": 3
   },
   "file_extension": ".py",
   "mimetype": "text/x-python",
   "name": "python",
   "nbconvert_exporter": "python",
   "pygments_lexer": "ipython3",
   "version": "3.7.1"
  }
 },
 "nbformat": 4,
 "nbformat_minor": 2
}
